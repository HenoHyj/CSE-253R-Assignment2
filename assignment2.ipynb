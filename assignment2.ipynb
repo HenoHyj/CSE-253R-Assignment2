{
 "cells": [
  {
   "cell_type": "code",
   "execution_count": null,
   "metadata": {},
   "outputs": [],
   "source": [
    "import os\n",
    "import glob\n",
    "import json\n",
    "import random\n",
    "from collections import Counter\n",
    "import shutil # For tokenizer saving/loading\n",
    "\n",
    "# MidiTok imports\n",
    "from miditok import REMI, TokenizerConfig\n",
    "from symusic import Score # MidiTok uses symusic by default now\n",
    "\n",
    "# For downloading (if you don't have MAESTRO yet)\n",
    "import requests\n",
    "import tarfile\n",
    "from tqdm import tqdm\n",
    "\n",
    "# Set a seed for reproducibility if needed elsewhere, though tokenizer training itself has some randomness\n",
    "random.seed(42)"
   ]
  }
 ],
 "metadata": {
  "language_info": {
   "name": "python"
  }
 },
 "nbformat": 4,
 "nbformat_minor": 2
}
